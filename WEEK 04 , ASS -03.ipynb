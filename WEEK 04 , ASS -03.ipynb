{
 "cells": [
  {
   "cell_type": "markdown",
   "metadata": {},
   "source": [
    "WEEK 04 (0PPS), ASS. NO - 03"
   ]
  },
  {
   "cell_type": "markdown",
   "metadata": {},
   "source": [
    "Q1. What is Abstraction in OOps? Explain with an example."
   ]
  },
  {
   "cell_type": "markdown",
   "metadata": {},
   "source": [
    "**Abstraction** in Object-Oriented Programming (OOP) is the concept of hiding the complex internal implementation details and exposing only the essential features or functionalities to the user. It helps in reducing complexity by allowing the user to interact with the object at a high level without worrying about how it performs its tasks.\n",
    "\n",
    "In essence, abstraction simplifies the interaction by focusing on **what** an object does rather than **how** it does it. This makes the system more modular and easier to maintain, as the internal changes don't affect the external interface.\n",
    "\n",
    "### Example of Abstraction:\n",
    "\n",
    "Consider a **Car** object. When you drive a car, you interact with a few simple controls, such as the steering wheel, accelerator, and brake. You don't need to know the intricate details of how the engine works, how fuel is processed, or how the braking system functions. This is abstraction—you are provided with a simplified interface to interact with the object, hiding the underlying complexity.\n",
    "\n",
    "Let's implement this in Python:\n",
    "\n",
    "  "
   ]
  },
  {
   "cell_type": "code",
   "execution_count": 1,
   "metadata": {},
   "outputs": [
    {
     "name": "stdout",
     "output_type": "stream",
     "text": [
      "Car engine started\n",
      "Bike engine started\n"
     ]
    }
   ],
   "source": [
    "from abc import ABC, abstractmethod\n",
    "\n",
    "# Abstract class (using ABC to make it abstract)\n",
    "class Vehicle(ABC):\n",
    "    # Abstract method (no implementation)\n",
    "    @abstractmethod\n",
    "    def start_engine(self):\n",
    "        pass\n",
    "    \n",
    "    @abstractmethod\n",
    "    def stop_engine(self):\n",
    "        pass\n",
    "\n",
    "# Concrete class (inherits from Vehicle)\n",
    "class Car(Vehicle):\n",
    "    def start_engine(self):\n",
    "        return \"Car engine started\"\n",
    "    \n",
    "    def stop_engine(self):\n",
    "        return \"Car engine stopped\"\n",
    "\n",
    "# Concrete class (inherits from Vehicle)\n",
    "class Bike(Vehicle):\n",
    "    def start_engine(self):\n",
    "        return \"Bike engine started\"\n",
    "    \n",
    "    def stop_engine(self):\n",
    "        return \"Bike engine stopped\"\n",
    "\n",
    "# Instantiate objects of Car and Bike\n",
    "car = Car()\n",
    "bike = Bike()\n",
    "\n",
    "print(car.start_engine())  # Output: Car engine started\n",
    "print(bike.start_engine())  # Output: Bike engine started\n"
   ]
  },
  {
   "cell_type": "markdown",
   "metadata": {},
   "source": [
    " \n",
    "\n",
    "\n",
    "### Explanation:\n",
    "- **Abstract Class `Vehicle`**: It provides an interface with abstract methods `start_engine()` and `stop_engine()`. The abstract methods define *what* needs to be done but not *how* it will be done.\n",
    "- **Concrete Classes `Car` and `Bike`**: These classes inherit from `Vehicle` and provide their own implementation of `start_engine()` and `stop_engine()`, defining *how* these methods work.\n",
    "- The user of the `Car` or `Bike` object only interacts with the high-level methods (`start_engine()`), without needing to know the internal workings of the vehicle.\n",
    "\n",
    "### Real-World Example:\n",
    "Think of an ATM machine. You interact with a simple interface to withdraw money, check balances, etc. The user doesn't need to understand the detailed banking protocols, server communication, or database operations. This complexity is abstracted away, and the user sees only the essential functionalities."
   ]
  },
  {
   "cell_type": "markdown",
   "metadata": {},
   "source": [
    "Q2. Differentiate between Abstraction and Encapsulation. Explain with an example."
   ]
  },
  {
   "cell_type": "markdown",
   "metadata": {},
   "source": [
    "**Abstraction** and **Encapsulation** are two fundamental concepts in Object-Oriented Programming (OOP), but they serve different purposes. Let's break down the differences and provide examples to clarify them:\n",
    "\n",
    "### 1. **Abstraction**:\n",
    "- **Definition**: Abstraction focuses on hiding the complex implementation details and showing only the essential features of an object. It simplifies the interaction with the system by providing a user-friendly interface, without revealing the inner workings.\n",
    "- **Goal**: The goal of abstraction is to reduce complexity and isolate the impact of changes in the underlying code.\n",
    "- **How**: Abstraction can be achieved using abstract classes and interfaces, which expose only the necessary operations while keeping the internal details hidden.\n",
    "\n",
    "#### Example of Abstraction:\n",
    "In a car, you interact with the controls (steering, pedals, buttons) without knowing how the engine, brakes, and other systems work internally.\n",
    " \n",
    " \n"
   ]
  },
  {
   "cell_type": "code",
   "execution_count": 2,
   "metadata": {},
   "outputs": [
    {
     "name": "stdout",
     "output_type": "stream",
     "text": [
      "Car engine started\n"
     ]
    }
   ],
   "source": [
    "from abc import ABC, abstractmethod\n",
    "\n",
    "# Abstract class representing a vehicle\n",
    "class Vehicle(ABC):\n",
    "    @abstractmethod\n",
    "    def start_engine(self):\n",
    "        pass\n",
    "\n",
    "    @abstractmethod\n",
    "    def stop_engine(self):\n",
    "        pass\n",
    "\n",
    "# Concrete class inheriting from abstract class\n",
    "class Car(Vehicle):\n",
    "    def start_engine(self):\n",
    "        return \"Car engine started\"\n",
    "\n",
    "    def stop_engine(self):\n",
    "        return \"Car engine stopped\"\n",
    "\n",
    "# Using abstraction\n",
    "car = Car()\n",
    "print(car.start_engine())  # Output: Car engine started\n"
   ]
  },
  {
   "cell_type": "markdown",
   "metadata": {},
   "source": [
    "Here, the abstract class Vehicle hides the internal implementation of starting and stopping the engine, while the user interacts with a simplified interface (start and stop methods).\n"
   ]
  },
  {
   "cell_type": "markdown",
   "metadata": {},
   "source": [
    " \n",
    " \n",
    "\n",
    "### 2. **Encapsulation**:\n",
    "- **Definition**: Encapsulation is the practice of bundling the data (attributes) and methods (functions) that manipulate that data into a single unit or class, and restricting access to some of the object's components. Encapsulation ensures that an object's internal state cannot be modified directly by outside code but only through well-defined methods.\n",
    "- **Goal**: The goal of encapsulation is to protect the internal state of an object and ensure controlled access to it.\n",
    "- **How**: Encapsulation is typically achieved using access modifiers (like `private`, `protected`, and `public` in some languages) and providing getter and setter methods to control how the data is accessed or modified.\n",
    "\n",
    "#### Example of Encapsulation:\n",
    "In a car, certain internal systems (like the fuel injection or engine temperature) are hidden from direct access by the driver. Instead, the car's computer manages these elements internally.\n",
    "\n",
    "  "
   ]
  },
  {
   "cell_type": "code",
   "execution_count": 3,
   "metadata": {},
   "outputs": [
    {
     "name": "stdout",
     "output_type": "stream",
     "text": [
      "Toyota\n",
      "Fuel level: 70\n"
     ]
    }
   ],
   "source": [
    "class Car:\n",
    "    def __init__(self, brand, fuel_level):\n",
    "        self.__brand = brand         # Private attribute\n",
    "        self.__fuel_level = fuel_level  # Private attribute\n",
    "    \n",
    "    # Getter method to access private brand attribute\n",
    "    def get_brand(self):\n",
    "        return self.__brand\n",
    "    \n",
    "    # Setter method to safely modify fuel level\n",
    "    def refuel(self, amount):\n",
    "        if amount > 0:\n",
    "            self.__fuel_level += amount\n",
    "        else:\n",
    "            print(\"Invalid amount\")\n",
    "    \n",
    "    # Method to display fuel level\n",
    "    def check_fuel(self):\n",
    "        return f\"Fuel level: {self.__fuel_level}\"\n",
    "\n",
    "# Creating a Car object\n",
    "car = Car(\"Toyota\", 50)\n",
    "print(car.get_brand())       # Output: Toyota\n",
    "car.refuel(20)               # Correctly refuels the car\n",
    "print(car.check_fuel())      # Output: Fuel level: 70\n"
   ]
  },
  {
   "cell_type": "markdown",
   "metadata": {},
   "source": [
    "Here, the attributes __brand and __fuel_level are encapsulated (private) and cannot be accessed or modified directly from outside the class. The user interacts with these attributes only through the methods provided (get_brand(), refuel(), check_fuel()).\n"
   ]
  },
  {
   "cell_type": "markdown",
   "metadata": {},
   "source": [
    " \n",
    "   \n",
    "  \n",
    "\n",
    "\n",
    "### **Key Differences between Abstraction and Encapsulation**:\n",
    "\n",
    "| **Aspect**            | **Abstraction**                                             | **Encapsulation**                                              |\n",
    "|-----------------------|-------------------------------------------------------------|---------------------------------------------------------------|\n",
    "| **Purpose**           | Hides complex implementation details and shows only essential features. | Bundles data and methods into a single unit, hiding internal state. |\n",
    "| **Focus**             | Focuses on *what* an object does, not how it does it.         | Focuses on *how* to protect data and control access to it.      |\n",
    "| **Achieved by**       | Using abstract classes and interfaces.                      | Using access modifiers (private, public) and getter/setter methods. |\n",
    "| **Goal**              | Simplifies interaction by hiding unnecessary details.       | Ensures data integrity and restricts unauthorized access to internal data. |\n",
    "| **Example**           | Car's driver interface (start, stop) without internal details of the engine. | Private fuel level in a car class, managed through setter and getter methods. |\n",
    "\n",
    " "
   ]
  },
  {
   "cell_type": "markdown",
   "metadata": {},
   "source": [
    "Q3. What is abc module in python? Why is it used?"
   ]
  },
  {
   "cell_type": "markdown",
   "metadata": {},
   "source": [
    "The `abc` module in Python stands for **Abstract Base Classes**. It is part of Python's standard library and is used to define abstract classes and methods, which are the foundation of abstraction in Object-Oriented Programming.\n",
    "\n",
    "### Why is the `abc` module used?\n",
    "- The `abc` module allows the creation of **abstract classes**—classes that cannot be instantiated directly. These abstract classes define a blueprint for other classes.\n",
    "- Abstract classes contain **abstract methods**, which are methods that do not have an implementation in the base class but must be implemented by any subclass.\n",
    "- This promotes the use of **abstraction** in Python, where concrete (derived) classes must provide the implementation details for abstract methods.\n",
    "- It ensures that a derived class implements the required methods, which guarantees that certain behaviors are provided in a consistent way.\n",
    "\n",
    "### Key Features:\n",
    "1. **Abstract Classes**: You can create a class that serves as a template for other classes, enforcing that derived classes implement specific methods.\n",
    "2. **Abstract Methods**: You can define methods that don't have any implementation in the base class and must be implemented by subclasses.\n",
    "3. **@abstractmethod decorator**: This decorator is used to declare a method as abstract, meaning subclasses must override it.\n",
    "\n",
    "### How the `abc` module works:\n",
    "\n",
    "- To define an abstract class, you inherit from `ABC`, which is a helper class in the `abc` module.\n",
    "- You use the `@abstractmethod` decorator to define methods that need to be implemented in any subclass.\n",
    "\n",
    "### Example of Using the `abc` Module:\n",
    "\n",
    "```python\n",
    "from abc import ABC, abstractmethod\n",
    "\n",
    " \n",
    " "
   ]
  },
  {
   "cell_type": "code",
   "execution_count": 4,
   "metadata": {},
   "outputs": [
    {
     "name": "stdout",
     "output_type": "stream",
     "text": [
      "Bark\n",
      "Meow\n",
      "Sleeping...\n"
     ]
    }
   ],
   "source": [
    "from abc import ABC, abstractmethod\n",
    "\n",
    "# Abstract class\n",
    "class Animal(ABC):\n",
    "    # Abstract method\n",
    "    @abstractmethod\n",
    "    def make_sound(self):\n",
    "        pass\n",
    "\n",
    "    # Concrete method (can have normal methods too)\n",
    "    def sleep(self):\n",
    "        return \"Sleeping...\"\n",
    "\n",
    "# Concrete class inheriting from Animal\n",
    "class Dog(Animal):\n",
    "    def make_sound(self):\n",
    "        return \"Bark\"\n",
    "\n",
    "# Concrete class inheriting from Animal\n",
    "class Cat(Animal):\n",
    "    def make_sound(self):\n",
    "        return \"Meow\"\n",
    "\n",
    "# Creating objects of Dog and Cat\n",
    "dog = Dog()\n",
    "cat = Cat()\n",
    "\n",
    "print(dog.make_sound())  # Output: Bark\n",
    "print(cat.make_sound())  # Output: Meow\n",
    "print(dog.sleep())       # Output: Sleeping...\n"
   ]
  },
  {
   "cell_type": "markdown",
   "metadata": {},
   "source": [
    "Q4. How can we achieve data abstraction?"
   ]
  },
  {
   "cell_type": "markdown",
   "metadata": {},
   "source": [
    "In Python, **data abstraction** is achieved by using **abstract classes** and **interfaces**. Data abstraction focuses on exposing only essential information and hiding the complex internal details of how that information is processed. By hiding unnecessary implementation details, abstraction simplifies code interaction and promotes security.\n",
    "\n",
    "There are several ways to achieve data abstraction in Python:\n",
    "\n",
    "### 1. **Using Abstract Classes (via the `abc` module)**:\n",
    "Abstract classes allow you to define abstract methods that must be implemented by any subclass. This hides the internal details of how these methods will be implemented and provides a clear, abstract interface for interacting with the objects.\n",
    "\n",
    "### Example Using Abstract Classes:\n"
   ]
  },
  {
   "cell_type": "code",
   "execution_count": 5,
   "metadata": {},
   "outputs": [
    {
     "name": "stdout",
     "output_type": "stream",
     "text": [
      "Area: 50\n",
      "Perimeter: 30\n"
     ]
    }
   ],
   "source": [
    "from abc import ABC, abstractmethod\n",
    "\n",
    "# Abstract class\n",
    "class Shape(ABC):\n",
    "    @abstractmethod\n",
    "    def area(self):\n",
    "        pass\n",
    "\n",
    "    @abstractmethod\n",
    "    def perimeter(self):\n",
    "        pass\n",
    "\n",
    "# Concrete class implementing the abstract methods\n",
    "class Rectangle(Shape):\n",
    "    def __init__(self, length, width):\n",
    "        self.length = length\n",
    "        self.width = width\n",
    "\n",
    "    def area(self):\n",
    "        return self.length * self.width\n",
    "\n",
    "    def perimeter(self):\n",
    "        return 2 * (self.length + self.width)\n",
    "\n",
    "# Using abstraction\n",
    "rect = Rectangle(10, 5)\n",
    "print(\"Area:\", rect.area())          # Output: Area: 50\n",
    "print(\"Perimeter:\", rect.perimeter())  # Output: Perimeter: 30\n"
   ]
  },
  {
   "cell_type": "markdown",
   "metadata": {},
   "source": [
    "2. Encapsulation as a Tool for Data Abstraction:\n",
    "Encapsulation is another way to achieve data abstraction by hiding internal data and providing controlled access through methods. By marking variables as private (using a naming convention with a double underscore, __), you can hide the internal state of an object from the outside world."
   ]
  },
  {
   "cell_type": "code",
   "execution_count": 6,
   "metadata": {},
   "outputs": [
    {
     "name": "stdout",
     "output_type": "stream",
     "text": [
      "Your balance is: 1000\n",
      "Deposited 500. New balance: 1500\n",
      "Withdrew 200. Remaining balance: 1300\n"
     ]
    }
   ],
   "source": [
    "class BankAccount:\n",
    "    def __init__(self, account_number, balance):\n",
    "        self.__account_number = account_number  # Private attribute\n",
    "        self.__balance = balance                # Private attribute\n",
    "\n",
    "    # Public method to access balance (abstracts away direct access)\n",
    "    def check_balance(self):\n",
    "        return f\"Your balance is: {self.__balance}\"\n",
    "\n",
    "    # Public method to deposit money (abstracts away balance modification)\n",
    "    def deposit(self, amount):\n",
    "        if amount > 0:\n",
    "            self.__balance += amount\n",
    "            return f\"Deposited {amount}. New balance: {self.__balance}\"\n",
    "        return \"Invalid deposit amount\"\n",
    "\n",
    "    # Public method to withdraw money\n",
    "    def withdraw(self, amount):\n",
    "        if 0 < amount <= self.__balance:\n",
    "            self.__balance -= amount\n",
    "            return f\"Withdrew {amount}. Remaining balance: {self.__balance}\"\n",
    "        return \"Invalid withdrawal amount\"\n",
    "\n",
    "# Using abstraction\n",
    "account = BankAccount(\"123456789\", 1000)\n",
    "print(account.check_balance())  # Output: Your balance is: 1000\n",
    "print(account.deposit(500))     # Output: Deposited 500. New balance: 1500\n",
    "print(account.withdraw(200))    # Output: Withdrew 200. Remaining balance: 1300\n"
   ]
  },
  {
   "cell_type": "markdown",
   "metadata": {},
   "source": [
    "3. Using Getter and Setter Methods:\n",
    "You can use getter and setter methods to control access to an object's internal data, allowing abstraction by hiding the implementation details of how data is accessed or modified."
   ]
  },
  {
   "cell_type": "code",
   "execution_count": 7,
   "metadata": {},
   "outputs": [
    {
     "name": "stdout",
     "output_type": "stream",
     "text": [
      "Alice\n",
      "50000\n",
      "55000\n"
     ]
    }
   ],
   "source": [
    "class Employee:\n",
    "    def __init__(self, name, salary):\n",
    "        self.__name = name        # Private attribute\n",
    "        self.__salary = salary    # Private attribute\n",
    "\n",
    "    # Getter method for name\n",
    "    def get_name(self):\n",
    "        return self.__name\n",
    "\n",
    "    # Setter method for salary\n",
    "    def set_salary(self, salary):\n",
    "        if salary > 0:\n",
    "            self.__salary = salary\n",
    "        else:\n",
    "            raise ValueError(\"Salary must be positive\")\n",
    "\n",
    "    # Getter method for salary\n",
    "    def get_salary(self):\n",
    "        return self.__salary\n",
    "\n",
    "# Using abstraction\n",
    "employee = Employee(\"Alice\", 50000)\n",
    "print(employee.get_name())      # Output: Alice\n",
    "print(employee.get_salary())    # Output: 50000\n",
    "employee.set_salary(55000)\n",
    "print(employee.get_salary())    # Output: 55000\n"
   ]
  },
  {
   "cell_type": "markdown",
   "metadata": {},
   "source": [
    "  \n",
    "    \n",
    " \n",
    "\n",
    "### How Abstraction is Achieved:\n",
    "\n",
    "1. **Abstract Classes and Methods**: By defining abstract classes with abstract methods, you specify what methods a class should have without revealing how those methods should be implemented. Subclasses provide the implementation.\n",
    "   \n",
    "2. **Encapsulation**: By using private attributes and providing public methods to interact with those attributes, you can hide the internal data from the outside world, achieving data abstraction.\n",
    "\n",
    "3. **Getter and Setter Methods**: These methods provide controlled and secure access to class attributes, ensuring that users only interact with the data in a predefined manner.\n",
    "\n",
    "### Benefits of Data Abstraction:\n",
    "- **Simplifies interaction**: Users interact with a simplified interface without needing to understand the internal workings.\n",
    "- **Improves maintainability**: Internal implementations can be changed without affecting the external interface.\n",
    "- **Increases security**: Data is hidden and can only be accessed through well-defined methods, preventing unintended or harmful interactions with the internal state.\n",
    "\n",
    "In summary, data abstraction in Python can be achieved by combining abstract classes, encapsulation, and getter/setter methods. This allows developers to expose only the necessary functionalities while hiding the underlying complexity."
   ]
  },
  {
   "cell_type": "markdown",
   "metadata": {},
   "source": [
    "Q5. Can we create an instance of an abstract class? Explain your answer."
   ]
  },
  {
   "cell_type": "markdown",
   "metadata": {},
   "source": [
    "No, **we cannot create an instance of an abstract class** in Python (or in most Object-Oriented Programming languages). An abstract class serves as a blueprint for other classes, and its purpose is to provide a base structure with abstract methods that must be implemented by any concrete (derived) class. Instantiating an abstract class directly would defeat the purpose of abstraction, which is to ensure that certain methods are implemented by subclasses.\n",
    "\n",
    "### Why can't we instantiate an abstract class?\n",
    "\n",
    "1. **Abstract methods**: An abstract class typically contains one or more abstract methods, which are methods declared but not implemented in the abstract class. Since the abstract class doesn't provide a complete implementation for these methods, creating an instance of the class wouldn't make sense. The class is incomplete by design, and thus, cannot be instantiated.\n",
    "\n",
    "2. **Subclass responsibility**: The subclass is responsible for providing the concrete implementation of the abstract methods. Only when the subclass implements all the abstract methods, the object can be instantiated from that class.\n",
    "\n",
    "### Example:\n",
    "\n",
    "Let’s illustrate this with an example using the `abc` module in Python:\n",
    "\n",
    " "
   ]
  },
  {
   "cell_type": "code",
   "execution_count": 8,
   "metadata": {},
   "outputs": [
    {
     "ename": "TypeError",
     "evalue": "Can't instantiate abstract class Animal without an implementation for abstract method 'make_sound'",
     "output_type": "error",
     "traceback": [
      "\u001b[1;31m---------------------------------------------------------------------------\u001b[0m",
      "\u001b[1;31mTypeError\u001b[0m                                 Traceback (most recent call last)",
      "Cell \u001b[1;32mIn[8], line 16\u001b[0m\n\u001b[0;32m     12\u001b[0m         \u001b[38;5;28;01mreturn\u001b[39;00m \u001b[38;5;124m\"\u001b[39m\u001b[38;5;124mBark\u001b[39m\u001b[38;5;124m\"\u001b[39m\n\u001b[0;32m     14\u001b[0m \u001b[38;5;66;03m# Trying to create an instance of the abstract class\u001b[39;00m\n\u001b[0;32m     15\u001b[0m \u001b[38;5;66;03m# This will raise a TypeError\u001b[39;00m\n\u001b[1;32m---> 16\u001b[0m animal \u001b[38;5;241m=\u001b[39m \u001b[43mAnimal\u001b[49m\u001b[43m(\u001b[49m\u001b[43m)\u001b[49m  \u001b[38;5;66;03m# Error: TypeError: Can't instantiate abstract class Animal with abstract methods make_sound\u001b[39;00m\n\u001b[0;32m     18\u001b[0m \u001b[38;5;66;03m# Creating an instance of the concrete class\u001b[39;00m\n\u001b[0;32m     19\u001b[0m dog \u001b[38;5;241m=\u001b[39m Dog()  \u001b[38;5;66;03m# This works\u001b[39;00m\n",
      "\u001b[1;31mTypeError\u001b[0m: Can't instantiate abstract class Animal without an implementation for abstract method 'make_sound'"
     ]
    }
   ],
   "source": [
    "from abc import ABC, abstractmethod\n",
    "\n",
    "# Abstract class\n",
    "class Animal(ABC):\n",
    "    @abstractmethod\n",
    "    def make_sound(self):\n",
    "        pass\n",
    "\n",
    "# Concrete class inheriting from Animal\n",
    "class Dog(Animal):\n",
    "    def make_sound(self):\n",
    "        return \"Bark\"\n",
    "\n",
    "# Trying to create an instance of the abstract class\n",
    "# This will raise a TypeError\n",
    "animal = Animal()  # Error: TypeError: Can't instantiate abstract class Animal with abstract methods make_sound\n",
    "\n",
    "# Creating an instance of the concrete class\n",
    "dog = Dog()  # This works\n",
    "print(dog.make_sound())  # Output: Bark\n"
   ]
  },
  {
   "cell_type": "markdown",
   "metadata": {},
   "source": []
  }
 ],
 "metadata": {
  "kernelspec": {
   "display_name": "Python 3",
   "language": "python",
   "name": "python3"
  },
  "language_info": {
   "codemirror_mode": {
    "name": "ipython",
    "version": 3
   },
   "file_extension": ".py",
   "mimetype": "text/x-python",
   "name": "python",
   "nbconvert_exporter": "python",
   "pygments_lexer": "ipython3",
   "version": "3.12.5"
  }
 },
 "nbformat": 4,
 "nbformat_minor": 2
}
